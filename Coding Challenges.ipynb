{
  "metadata": {
    "kernelspec": {
      "name": "python",
      "display_name": "Python (Pyodide)",
      "language": "python"
    },
    "language_info": {
      "codemirror_mode": {
        "name": "python",
        "version": 3
      },
      "file_extension": ".py",
      "mimetype": "text/x-python",
      "name": "python",
      "nbconvert_exporter": "python",
      "pygments_lexer": "ipython3",
      "version": "3.8"
    }
  },
  "nbformat_minor": 5,
  "nbformat": 4,
  "cells": [
    {
      "id": "6b463d67-d7e1-425f-8b6c-9bbdd5829506",
      "cell_type": "code",
      "source": "def Container_with_most_water(height):\n    \n    n = len(height)\n    r = n-1\n    l = 0\n    max_area = 0\n\n    while l < r:\n        w = r - l\n        h = min(height[l], height[r])\n        a = w * h\n        max_area = max(max_area, a)\n\n    if heigth[l] < height[r]:\n        l+=1\n   \n    else:\n        r-=1\n\n    return max_area",
      "metadata": {
        "trusted": true
      },
      "outputs": [],
      "execution_count": null
    },
    {
      "id": "0030d2a2-dcb3-409b-b529-e1b396bdb45b",
      "cell_type": "code",
      "source": "\"Basebell Game- Stack Problem asked to perform if operation to create specific scenarios or outcomes \"\n\n\ndef baseball_game(operation):\n    \n    stk = []\n    \n    for op in operation: \n        \n        if op == \"+\":\n            stk.append(stk[-1] + stk[-2])\n        \n        elif op == \"D\":\n            stk.append(stk[-1] * 2)\n        \n        elif op == \"C\":\n            stk.pop()\n       \n        else:\n            stk.append(int(op))\n\n    return sum(stk)      ",
      "metadata": {
        "trusted": true
      },
      "outputs": [],
      "execution_count": null
    },
    {
      "id": "5602d015-6fe2-4df3-999b-ce2c67cf63a6",
      "cell_type": "code",
      "source": "\"Min Stack\"\n\nclass minstack:\n   \n    def in_it(self, val):\n        self.stk = []\n        self.min_stk = []\n\n    def push(self, val:int) -> None :\n        self.stk.append(val)\n\n    if not self.min_stk:\n        self.min_stk.append(val)\n\n    elif self.min_stk[-1] < val:\n        self.min_stk.append(self.min_stk.append[-1])\n\n    else:\n        self.min_stk.append(val)\n\n    def pop(self) -> None:\n        self.stk.pop()\n        self.min_stk.pop()\n\n\n    def top(self) -> None:\n        return self.stk[-1]\n\n    def get_min(self) -> None:\n        return self.min_stk[-1]\n",
      "metadata": {
        "trusted": true
      },
      "outputs": [],
      "execution_count": null
    },
    {
      "id": "16915101-7ead-4c6f-b82e-937f6e1540ab",
      "cell_type": "code",
      "source": "\"Bubble Sort, Quick Sort, Insertion Sort, Selection Sort\" \nB = [-9, 1, 5,-6,-1,-2]\n\ndef bubble_sort(arr):\n    n = len(arr)\n    flag = True\n\n    while flag:\n        flag = False\n\n    for i in range(1,n):\n        if arr[i-1] > arr[i]:\n            flag = True\n        arr[i-1], arr[i] = arr[i], arr[i-1]\n\nbubble_sort(B)\nB\n\ndef insertion_sort(arr):\n    \n    n = len(arr)\n    for i in range(1,n):\n        for j in range(i,0,-1):\n            if arr[j-1] > arr[j]:\n                arr[j-1], arr[j] = arr[j], arr[j-1]\n            else: \n                break\n\ninsertion_sort(B)\nB \n\ndef quick_sort(arr):\n    if len(arr) <= 1:\n        return arr\n    \n    p = arr[-1]\n    L = [x for x in arr[:-1] if x <= p]\n    R = [x for x in arr[:-1] if x > p]\n\n    L = quick_sort(L)\n    R = quick_sort(R)\n\n    return L + [p] + R\n\nquick_sort(B)\n\ndef selection_sort(arr):\n    n = len(arr)\n    for i in range(n):\n        min_index = i\n        for j in range(i+1, n):\n            if arr[j] < arr[min_index]:\n                min_index = j\n                arr[i], arr[min_index] = arr[min_index], arr[i]\n\nselection_sort(B)\nB\n",
      "metadata": {
        "trusted": true
      },
      "outputs": [],
      "execution_count": null
    },
    {
      "id": "da7b0fcc-a7b5-46aa-8083-a72eae809a5b",
      "cell_type": "code",
      "source": "def lengthoflongestsubstring(s):\n    \n    n = len(s)\n    l = 0\n    longest = 0\n    sett = set()\n\n    for r in range(n):\n        while s[r] in sett:\n            sett.remove(s[l])\n            l +=1\n\n    w = (r - l) + 1\n    longest = max(longest, w)\n    sett.add(s[r])\n\n    return longest\n    ",
      "metadata": {
        "trusted": true
      },
      "outputs": [],
      "execution_count": 7
    },
    {
      "id": "7312d8f8-1d70-4ece-9a26-c4f12cf1db43",
      "cell_type": "code",
      "source": "import heapq\nfrom collections import Counter\n\ndef top_k_frequent_elements(nums, k):\n    counter = Counter(nums)  \n    heap = []\n\n    for key, val in counter.items():\n        if len(heap) < k:\n            heapq.heappush(heap, (key, val))\n        else:\n            heapq.heappushpop(heap, (key, val))\n\n    return [h[1] for h in heap]",
      "metadata": {
        "trusted": true
      },
      "outputs": [],
      "execution_count": 10
    },
    {
      "id": "207910eb-2e72-47d4-a029-5f1fb6a2559a",
      "cell_type": "code",
      "source": "def kth_largest_element(nums, k):\n    \n    min_heap = []\n\n    for num in nums:\n        if len(min_heap) < k:\n            heapq.heappush(min_heap, num)\n        else:\n            heapq.heappushpop(min_heap, num)\n\n    return min_heap[0]",
      "metadata": {
        "trusted": true
      },
      "outputs": [],
      "execution_count": 3
    },
    {
      "id": "3548c5d8-756c-474f-a75e-8d022c4a519e",
      "cell_type": "code",
      "source": "def coin_change(coins, amt):\n    coins.sort()\n    memo ={0:0}\n\n    def min_coins(amt):\n        if amt in memo:\n            return memo[amt]\n\n    minn = float(\"inf\")\n\n    for coin in coins:\n        diff = amt - coin\n        if amt < 0:\n            break\n        minn = min(minn, 1 + min_coins(diff))\n\n    memo[amt] = minn\n    return minn\n\n    result = min_coins(amt)\n    if result < float(\"inf\"):\n        return result\n    else:\n        return -1",
      "metadata": {
        "trusted": true
      },
      "outputs": [],
      "execution_count": 25
    },
    {
      "id": "3993efc0-0939-427c-865b-135f99317160",
      "cell_type": "code",
      "source": "def unique_path(m,n):\n\n    memo = {(0,0):1}\n    \n    def paths(i, j):\n        if(i,j) in memo:\n            return memo[(i,j)]\n        elif i < 0 or j < 0 or i ==m or j ==n:\n            return 0\n        else:\n            val = paths(i, j-1) + paths(i-1,j)\n            memo[(i,j)] = val\n            return val\n\n    return paths(m-1, n-1)\n        ",
      "metadata": {
        "trusted": true
      },
      "outputs": [],
      "execution_count": 30
    },
    {
      "id": "231746e4-f2c1-4ed6-982c-0fe0673b463b",
      "cell_type": "code",
      "source": "def combination_sum(candidates, target):\n   \n    n = len(candidates)\n    res, sol = [], []\n\n    ## if cursum is a target \n    def backtrack(i, cursum):\n        if cursum == target:\n            res.append(sol[:])\n            return\n    ## if cursum is greater than target or equalto n \n    \n    if cursum > target or i == n:\n    ## backtrack from next index\n        \n        backtrack(i+1, cur_sum)\n        sol.append(nums[i])\n        backtrack(i, cur_sum+nums[i])\n        sol.pop()\n\n    backtrack(0, 0)\n    return res      ",
      "metadata": {
        "trusted": true
      },
      "outputs": [],
      "execution_count": 34
    },
    {
      "id": "f4c5e300-fbfa-44e4-8a67-e6b4093a9300",
      "cell_type": "code",
      "source": "def letter_combination(digits):\n\n    if digits == '':\n        return []\n\n    res, sol = [], []\n\n    letter_map = {'2':'abc', '3':'def', '4': 'ghi', '5':'jkl', '6':'mno', '7':'pqrs', '8':'tuv', '9':'wxyz'}\n    n = len(digits)\n\n    def backtrack(i=0):\n\n        if i == n:\n            ans.append(''.join(sol))\n            return\n\n    for letter in letter_map[digits[i]]:\n        sol.append(letter)\n        backtrack(i+1)\n        sol.pop()\n            \n    ",
      "metadata": {
        "trusted": true
      },
      "outputs": [],
      "execution_count": 35
    },
    {
      "id": "a23e9a0f-0c0b-4af1-acc3-a50d8e7886a9",
      "cell_type": "code",
      "source": "def generate_parenthesis(n):\n    ans, sol = [], []\n\n    def backtrack(openn, close):\n        if len(sol) == 2*n:\n            ans.append(''.join(sol))\n            return\n\n    if openn < n:\n        sol.append('(')\n        backtrack(openn+1, close)\n        sol.pop()\n\n    if openn > close:\n        sol.append(')')\n        backtrack(openn, close+1)\n        sol.pop()\n\n    backtrack(0,0)\n    return ans\n        ",
      "metadata": {
        "trusted": true
      },
      "outputs": [],
      "execution_count": 37
    },
    {
      "id": "d68d9332-9594-42c5-b8f3-37543f433ac7",
      "cell_type": "code",
      "source": "",
      "metadata": {
        "trusted": true
      },
      "outputs": [],
      "execution_count": null
    }
  ]
}