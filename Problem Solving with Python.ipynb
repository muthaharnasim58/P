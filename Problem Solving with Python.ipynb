{
  "metadata": {
    "kernelspec": {
      "name": "python",
      "display_name": "Python (Pyodide)",
      "language": "python"
    },
    "language_info": {
      "codemirror_mode": {
        "name": "python",
        "version": 3
      },
      "file_extension": ".py",
      "mimetype": "text/x-python",
      "name": "python",
      "nbconvert_exporter": "python",
      "pygments_lexer": "ipython3",
      "version": "3.8"
    }
  },
  "nbformat_minor": 5,
  "nbformat": 4,
  "cells": [
    {
      "id": "6b463d67-d7e1-425f-8b6c-9bbdd5829506",
      "cell_type": "code",
      "source": "def Container_with_most_water(height):\n    \n    n = len(height)\n    r = n-1\n    l = 0\n    max_area = 0\n\n    while l < r:\n        w = r - l\n        h = min(height[l], height[r])\n        a = w * h\n        max_area = max(max_area, a)\n\n    if heigth[l] < height[r]:\n        l+=1\n   \n    else:\n        r-=1\n\n    return max_area",
      "metadata": {
        "trusted": true
      },
      "outputs": [],
      "execution_count": null
    },
    {
      "id": "0030d2a2-dcb3-409b-b529-e1b396bdb45b",
      "cell_type": "code",
      "source": "\"Basebell Game- Stack Problem asked to perform if operation to create specific scenarios or outcomes \"\n\n\ndef baseball_game(operation):\n    \n    stk = []\n    \n    for op in operation: \n        \n        if op == \"+\":\n            stk.append(stk[-1] + stk[-2])\n        \n        elif op == \"D\":\n            stk.append(stk[-1] * 2)\n        \n        elif op == \"C\":\n            stk.pop()\n       \n        else:\n            stk.append(int(op))\n\n    return sum(stk)      ",
      "metadata": {
        "trusted": true
      },
      "outputs": [],
      "execution_count": null
    },
    {
      "id": "5602d015-6fe2-4df3-999b-ce2c67cf63a6",
      "cell_type": "code",
      "source": "\"Min Stack\"\n\nclass minstack:\n   \n    def in_it(self, val):\n        self.stk = []\n        self.min_stk = []\n\n    def push(self, val:int) -> None :\n        self.stk.append(val)\n\n    if not self.min_stk:\n        self.min_stk.append(val)\n\n    elif self.min_stk[-1] < val:\n        self.min_stk.append(self.min_stk.append[-1])\n\n    else:\n        self.min_stk.append(val)\n\n    def pop(self) -> None:\n        self.stk.pop()\n        self.min_stk.pop()\n\n\n    def top(self) -> None:\n        return self.stk[-1]\n\n    def get_min(self) -> None:\n        return self.min_stk[-1]\n",
      "metadata": {
        "trusted": true
      },
      "outputs": [],
      "execution_count": null
    },
    {
      "id": "16915101-7ead-4c6f-b82e-937f6e1540ab",
      "cell_type": "code",
      "source": "\"Bubble Sort, Quick Sort, Insertion Sort \nB = [-9, 1, 5,-6,-1,-2]\n\ndef bubble_sort(arr):\n    n = len(arr)\n    flag = True\n\n    while flag:\n        flag = False\n\n    for i in range(1,n):\n        if arr[i-1] > arr[i]:\n            flag = True\n        arr[i-1], arr[i] = arr[i], arr[i-1]\n\nbubble_sort(B)\nB\n\ndef insertion_sort(arr):\n    \n    n = len(arr)\n    for i in range(1,n):\n        for j in range(i,0,-1):\n            if arr[j-1] > arr[j]:\n                arr[j-1], arr[j] = arr[j], arr[j-1]\n            else: \n                break\n\ninsertion_sort(B)\nB \n\ndef quick_sort(arr):\n    if len(arr) <= 1:\n        return arr\n    \n    p = arr[-1]\n    L = [x for x in arr[:-1] if x <= p]\n    R = [x for x in arr[:-1] if x > p]\n\n    L = quick_sort(L)\n    R = quick_sort(R)\n\n    return L + [p] + R\n\nquick_sort(B)\n\ndef selection_sort(arr):\n    n = len(arr)\n    for i in range(n):\n        min_index = i\n        for j in range(i+1, n):\n            if arr[j] < arr[min_index]:\n                min_index = j\n                arr[i], arr[min_index] = arr[min_index], arr[i]\n\nselection_sort(B)\nB\n",
      "metadata": {
        "trusted": true
      },
      "outputs": [],
      "execution_count": null
    }
  ]
}